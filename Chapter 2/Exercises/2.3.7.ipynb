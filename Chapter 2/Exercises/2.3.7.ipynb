{
 "cells": [
  {
   "cell_type": "markdown",
   "id": "6f0390c4",
   "metadata": {},
   "source": [
    "<h2>Insertion sort with binary search</h2>"
   ]
  },
  {
   "cell_type": "code",
   "execution_count": 110,
   "id": "f75ba506",
   "metadata": {},
   "outputs": [],
   "source": [
    "import numpy as np\n",
    "from timeit import default_timer as timer"
   ]
  },
  {
   "cell_type": "code",
   "execution_count": 111,
   "id": "d2df2d1c",
   "metadata": {},
   "outputs": [],
   "source": [
    "unsorted_array = np.random.randint(10000,size=10000)\n",
    "sorted_array = np.empty(len(unsorted_array))"
   ]
  },
  {
   "cell_type": "code",
   "execution_count": 112,
   "id": "d8630b72",
   "metadata": {},
   "outputs": [],
   "source": [
    "def binary_search(sorted_array, start, end, val):\n",
    "    if start == end:\n",
    "        return start\n",
    "    elif sorted_array[end-1] < val:\n",
    "        return end\n",
    "    else:\n",
    "        middle = (start + end) // 2\n",
    "        if sorted_array[middle] > val:\n",
    "            return binary_search(sorted_array, start, middle, val)\n",
    "        elif sorted_array[middle] < val:\n",
    "            return binary_search(sorted_array, middle, end, val)\n",
    "        else:\n",
    "            return middle\n"
   ]
  },
  {
   "cell_type": "code",
   "execution_count": 113,
   "id": "d9632f79",
   "metadata": {},
   "outputs": [],
   "source": [
    "def insertion_sort(unsorted_array, sorted_array):\n",
    "    for idx,val in enumerate(unsorted_array):\n",
    "        loc = binary_search(sorted_array, 0, idx, val)\n",
    "        sorted_array = np.insert(sorted_array, loc, val)\n",
    "\n",
    "    return sorted_array[:len(unsorted_array)].astype(int)"
   ]
  },
  {
   "cell_type": "code",
   "execution_count": 114,
   "id": "f08bf2f1",
   "metadata": {},
   "outputs": [
    {
     "name": "stdout",
     "output_type": "stream",
     "text": [
      "Unsorted array = [2152 6306 8096 5670 7794  460 5853 6679 6480 7585]....\n",
      "Sorted array = [ 0  2  2  3  5  9 10 10 10 11]....\n",
      "Time elapsed = 0.2904901779984357 seconds\n"
     ]
    }
   ],
   "source": [
    "start = timer()\n",
    "sorted_array = insertion_sort(unsorted_array, sorted_array)\n",
    "end = timer()\n",
    "print(\"Unsorted array = {}....\".format(unsorted_array[:10]))\n",
    "print(\"Sorted array = {}....\".format(sorted_array[:10]))\n",
    "print(\"Time elapsed = {} seconds\".format(end-start))"
   ]
  }
 ],
 "metadata": {
  "kernelspec": {
   "display_name": "base",
   "language": "python",
   "name": "python3"
  },
  "language_info": {
   "codemirror_mode": {
    "name": "ipython",
    "version": 3
   },
   "file_extension": ".py",
   "mimetype": "text/x-python",
   "name": "python",
   "nbconvert_exporter": "python",
   "pygments_lexer": "ipython3",
   "version": "3.12.7"
  }
 },
 "nbformat": 4,
 "nbformat_minor": 5
}
