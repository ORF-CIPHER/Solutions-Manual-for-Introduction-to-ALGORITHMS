{
 "cells": [
  {
   "cell_type": "markdown",
   "id": "78d2b54d-927c-4d6f-a5d1-bc5000615404",
   "metadata": {},
   "source": [
    "<h1>Merge Sort</h1>"
   ]
  },
  {
   "cell_type": "code",
   "execution_count": 263,
   "id": "7fc7d2e8-e5b7-49a9-926b-342c287ea083",
   "metadata": {},
   "outputs": [],
   "source": [
    "import numpy as np\n",
    "from timeit import default_timer as timer"
   ]
  },
  {
   "cell_type": "code",
   "execution_count": 265,
   "id": "f3910c24-7572-46a7-b5d3-4af8e6840dce",
   "metadata": {},
   "outputs": [],
   "source": [
    "unsorted_array = np.random.randint(10000,size = 10000)\n",
    "unsorted_array = unsorted_array.tolist()"
   ]
  },
  {
   "cell_type": "code",
   "execution_count": 267,
   "id": "26051e11-c84a-4af2-8dfa-5739124d0836",
   "metadata": {},
   "outputs": [],
   "source": [
    "def merge(left,right):\n",
    "    i,j = 0,0\n",
    "    sorted_array = []\n",
    "    while i<len(left) and j<len(right):\n",
    "        #print(\"i = {}, j = {}\".format(i,j))\n",
    "        if left[i] < right[j]:\n",
    "            sorted_array.append(left[i])\n",
    "            i += 1\n",
    "        else:\n",
    "            sorted_array.append(right[j])\n",
    "            j += 1\n",
    "    if i<len(left) :\n",
    "        while i < len(left):\n",
    "            sorted_array.append(left[i])\n",
    "            i += 1\n",
    "    else:\n",
    "        while j < len(right):\n",
    "            sorted_array.append(right[j])\n",
    "            j += 1\n",
    "    return sorted_array\n",
    "\n",
    "\n",
    "def merge_sort(arr,  start, end):\n",
    "    if len(arr) <= 1:\n",
    "        return arr\n",
    "    middle = (start+end)//2 \n",
    "    left = merge_sort(unsorted_array[start:middle],start, middle)\n",
    "    right = merge_sort(unsorted_array[middle:end], middle, end)\n",
    "    return merge(left, right)\n",
    "\n",
    "\n",
    "    "
   ]
  },
  {
   "cell_type": "code",
   "execution_count": 269,
   "id": "29db9b01-38f1-478d-a564-f75c253ab7a8",
   "metadata": {},
   "outputs": [
    {
     "name": "stdout",
     "output_type": "stream",
     "text": [
      "Unsorted array = [2004, 9557, 7818, 4062, 1370, 677, 8102, 176, 2937, 8108].....\n",
      "Sorted array = [0, 1, 1, 3, 5, 6, 9, 11, 12, 15].....\n",
      "Time elapsed = 0.02594580000732094 seconds\n"
     ]
    }
   ],
   "source": [
    "print(\"Unsorted array = {}.....\".format(unsorted_array[:10]))\n",
    "start = timer()\n",
    "sorted_array = merge_sort(unsorted_array, 0, len(unsorted_array))\n",
    "end = timer()\n",
    "print(\"Sorted array = {}.....\".format(sorted_array[:10]))\n",
    "print(\"Time elapsed = {} seconds\".format(end-start))"
   ]
  }
 ],
 "metadata": {
  "kernelspec": {
   "display_name": "Python [conda env:base] *",
   "language": "python",
   "name": "conda-base-py"
  },
  "language_info": {
   "codemirror_mode": {
    "name": "ipython",
    "version": 3
   },
   "file_extension": ".py",
   "mimetype": "text/x-python",
   "name": "python",
   "nbconvert_exporter": "python",
   "pygments_lexer": "ipython3",
   "version": "3.12.7"
  }
 },
 "nbformat": 4,
 "nbformat_minor": 5
}
