{
 "cells": [
  {
   "cell_type": "markdown",
   "id": "c5605220-4a77-427f-8304-3702bea8aba2",
   "metadata": {},
   "source": [
    "<h1>Insertion sort</h1>"
   ]
  },
  {
   "cell_type": "code",
   "execution_count": 33,
   "id": "eceba9b9-b5bb-4d24-b802-1f5efa9fed69",
   "metadata": {},
   "outputs": [],
   "source": [
    "import numpy as np\n",
    "from timeit import default_timer as timer"
   ]
  },
  {
   "cell_type": "code",
   "execution_count": 34,
   "id": "407a6638-0677-43b3-9738-fe3ea154ed22",
   "metadata": {},
   "outputs": [],
   "source": [
    "array = np.random.randint(10000,size = 10000)"
   ]
  },
  {
   "cell_type": "code",
   "execution_count": 35,
   "id": "6d0100c0-d6ef-40bc-b212-ef7a50bdc45a",
   "metadata": {},
   "outputs": [],
   "source": [
    "def insertion_sort(array):\n",
    "    print(\"Unsorted array = {} .....\".format(array[:10]))\n",
    "    for j,key in enumerate(array):\n",
    "        while j>=0 and j<(len(array)-1):\n",
    "            if array[j] > array[j+1]:\n",
    "                temp = array[j+1]\n",
    "                array[j+1] = array[j]\n",
    "                array[j] = temp\n",
    "            j -= 1\n",
    "\n",
    "    print(\"sorted array = {} .....\".format(array[:10]))\n",
    "    "
   ]
  },
  {
   "cell_type": "code",
   "execution_count": 36,
   "id": "d17e6fd7-e219-4ed5-9688-e190baef30ae",
   "metadata": {},
   "outputs": [
    {
     "name": "stdout",
     "output_type": "stream",
     "text": [
      "Unsorted array = [ 368 7048 2958 9310  906 7756 3159 1772 9459 2381] .....\n",
      "sorted array = [ 1  1  1  3  4  5  5  6  7 10] .....\n",
      "Time elapsed = 20.793345699989004 seconds\n"
     ]
    }
   ],
   "source": [
    "start = timer()\n",
    "insertion_sort(array)\n",
    "end = timer()\n",
    "\n",
    "print(\"Time elapsed = {} seconds\".format(end-start))\n"
   ]
  },
  {
   "cell_type": "code",
   "execution_count": null,
   "id": "d56d67ac-2470-4a75-a583-246fb7f83751",
   "metadata": {},
   "outputs": [],
   "source": []
  }
 ],
 "metadata": {
  "kernelspec": {
   "display_name": "Python 3 (ipykernel)",
   "language": "python",
   "name": "python3"
  },
  "language_info": {
   "codemirror_mode": {
    "name": "ipython",
    "version": 3
   },
   "file_extension": ".py",
   "mimetype": "text/x-python",
   "name": "python",
   "nbconvert_exporter": "python",
   "pygments_lexer": "ipython3",
   "version": "3.12.7"
  }
 },
 "nbformat": 4,
 "nbformat_minor": 5
}
